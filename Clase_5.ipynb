{
  "nbformat": 4,
  "nbformat_minor": 0,
  "metadata": {
    "colab": {
      "provenance": [],
      "authorship_tag": "ABX9TyNMZi8Ulwivcs7ptOnklrvT",
      "include_colab_link": true
    },
    "kernelspec": {
      "name": "python3",
      "display_name": "Python 3"
    },
    "language_info": {
      "name": "python"
    }
  },
  "cells": [
    {
      "cell_type": "markdown",
      "metadata": {
        "id": "view-in-github",
        "colab_type": "text"
      },
      "source": [
        "<a href=\"https://colab.research.google.com/github/Mily1702/mathUCE/blob/main/Clase_5.ipynb\" target=\"_parent\"><img src=\"https://colab.research.google.com/assets/colab-badge.svg\" alt=\"Open In Colab\"/></a>"
      ]
    },
    {
      "cell_type": "code",
      "execution_count": null,
      "metadata": {
        "id": "aKbar2ocSsBg"
      },
      "outputs": [],
      "source": []
    },
    {
      "cell_type": "markdown",
      "source": [
        "##Funciones: Utilidad, Tipos y Composición\n",
        "##1. Aplicación de la función de utilidad en ciencias sociales:\n",
        "\n",
        "La función de utilidad es un concepto fundamental en economía y ciencias sociales que representa la satisfacción o beneficio que un individuo obtiene al consumir un bien o servicio. Se utiliza para modelar el comportamiento racional de los individuos, asumiendo que ellos toman decisiones para maximizar su utilidad.\n",
        "\n",
        "Ejemplo: Un consumidor elige entre comprar una manzana o una naranja. La función de utilidad del consumidor le asigna un valor numérico a la satisfacción que obtiene al consumir cada fruta. Si el valor de la utilidad para la manzana es mayor que el de la naranja, el consumidor racionalmente elegirá comprar la manzana.\n",
        "\n",
        "##2. Funciones sobreyectivas, inyectivas y biyectivas:\n",
        "\n",
        "Función sobreyectiva (función suryectiva): Una función f: A → B se llama sobreyectiva si para todo elemento y en B, existe al menos un elemento x en A tal que f(x) = y. En otras palabras, la imagen de f cubre todo el conjunto B.\n",
        "Ejemplo: La función f(x) = x^2, donde x e [-1, 1] y f(x) e [0, 1], es sobreyectiva porque para cualquier valor y en [0, 1], existe un valor x en [-1, 1] tal que f(x) = y.\n",
        "\n",
        "Función inyectiva (función inyectiva): Una función f: A → B se llama inyectiva si para todo par de elementos x1 y x2 en A, si f(x1) = f(x2), entonces x1 = x2. En otras palabras, cada elemento en B tiene un único pre-imagen en A.\n",
        "Ejemplo: La función f(x) = x, donde x e R (conjunto de números reales), es inyectiva porque para cualquier par de valores x1 y x2 en R, si f(x1) = f(x2), entonces x1 = x2.\n",
        "\n",
        "Función biyectiva: Una función f: A → B se llama biyectiva si es tanto sobreyectiva como inyectiva. En otras palabras, la imagen de f cubre todo el conjunto B y cada elemento en B tiene un único pre-imagen en A.\n",
        "Ejemplo: La función f(x) = 2x + 1, donde x e R y f(x) e R, es biyectiva porque es tanto sobreyectiva como inyectiva.\n",
        "\n",
        "##3. Funciones compuestas y su importancia:\n",
        "\n",
        "Una función compuesta es una función que se obtiene al combinar dos o más funciones. La función compuesta g ◦ f de dos funciones f: A → B y g: B → C se define como la función que para cada elemento x en A, aplica primero la función f y luego la función g, es decir, (g ◦ f)(x) = g(f(x)).\n",
        "\n",
        "Ejemplo: La función f(x) = x^2 y g(x) = 2x, la función compuesta g ◦ f(x) = g(f(x)) = 2(x^2) = 2x^2.\n",
        "\n",
        "Las funciones compuestas son importantes porque permiten modelar situaciones más complejas que las que pueden modelarse con funciones simples.\n",
        "\n",
        "##4. Función inversa y sus propiedades:\n",
        "\n",
        "La función inversa de una función f: A → B, denotada como f^-1, es la función que para cada elemento y en B, encuentra el único elemento x en A tal que f(x) = y. En otras palabras, la función inversa \"deshace\" la función original.\n",
        "\n",
        "Propiedades de la función inversa:\n",
        "\n",
        "Si f es inyectiva y sobreyectiva (biyectiva), entonces existe una función inversa f^-1.\n",
        "f^-1(f(x)) = x para todo x en A.\n",
        "f(f^-1(y)) = y para todo y en B.\n",
        "Ejemplo: La función f(x) = x^2, donde x e [-1, 1] y f(x) e [0, 1], tiene una función inversa f^-1(x) = √x, donde x e [0, 1]."
      ],
      "metadata": {
        "id": "ofBuo2AOSvC3"
      }
    }
  ]
}